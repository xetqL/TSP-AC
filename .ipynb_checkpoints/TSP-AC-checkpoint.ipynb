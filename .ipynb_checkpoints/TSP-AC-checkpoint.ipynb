{
 "cells": [
  {
   "cell_type": "code",
   "execution_count": 3,
   "metadata": {},
   "outputs": [],
   "source": [
    "import numpy as np"
   ]
  },
  {
   "cell_type": "code",
   "execution_count": 4,
   "metadata": {},
   "outputs": [],
   "source": [
    "def fitness(solution, distance):\n",
    "    cost = 0\n",
    "    for i in range(len(solution)-1):\n",
    "        cost += distance[solution[i]][solution[i+1]]\n",
    "    cost += distance[solution[-1]][solution[0]]\n",
    "    return cost \n",
    "\n",
    "def get_travel(solution, city_points):\n",
    "    travel = []\n",
    "    for v in solution:\n",
    "        travel.append(city_points[v])\n",
    "    travel.append(city_points[solution[0]])\n",
    "    return np.array(travel)\n",
    "\n",
    "def init_tsp(NB_CITIES):\n",
    "    cities = np.random.rand(NB_CITIES, 2)\n",
    "    distances = np.zeros((NB_CITIES, NB_CITIES))\n",
    "\n",
    "    for from_city, p1 in enumerate(cities):\n",
    "        for to_city, p2 in enumerate(cities):\n",
    "            if from_city != to_city:\n",
    "                distances[from_city][to_city] = distances[to_city][from_city] = np.linalg.norm(p1-p2)\n",
    "                \n",
    "    np.fill_diagonal(distances, 0.000000000001)\n",
    "    return cities, distances\n",
    "\n",
    "def get_random_solution(NB_CITIES):\n",
    "    solution=(list(range(NB_CITIES)))\n",
    "    return np.random.shuffle(solution)\n",
    "\n",
    "def plot_solution(solution):\n",
    "    import matplotlib.pyplot as plt\n",
    "    x, y = zip(*get_travel(solution, deepcopy(cities)))\n",
    "    plt.plot(x,y)\n",
    "    x, y = zip(*cities)\n",
    "    plt.scatter(x, y, marker='*') "
   ]
  },
  {
   "cell_type": "code",
   "execution_count": 50,
   "metadata": {},
   "outputs": [
    {
     "name": "stderr",
     "output_type": "stream",
     "text": [
      "/home/xetql/.local/share/virtualenvs/TSP-AC-Sz05brbq/lib/python3.5/site-packages/ipykernel_launcher.py:4: RuntimeWarning: divide by zero encountered in true_divide\n",
      "  after removing the cwd from sys.path.\n"
     ]
    }
   ],
   "source": [
    "np.random.seed(0)\n",
    "cities, distances = init_tsp(10)\n",
    "alpha = 0.1\n",
    "visibility = 1 / distances\n",
    "pheromones = np.ones_like(visibility)\n",
    "beta       = 0.9\n",
    "def Pij(i, j, vis, phe):\n",
    "    mul = np.multiply(vis, phe)\n",
    "    np.fill_diagonal(mul, 0)\n",
    "    return (visibility[i][j]*pheromones[i][j]**beta) / np.sum(mul, axis=0)"
   ]
  },
  {
   "cell_type": "code",
   "execution_count": 8,
   "metadata": {},
   "outputs": [
    {
     "data": {
      "text/plain": [
       "array([1.85973631,        inf, 4.55108867, 3.04369146, 8.01907568,\n",
       "       2.57109198, 1.94638984, 1.65679376, 5.76664949, 1.89190884])"
      ]
     },
     "execution_count": 8,
     "metadata": {},
     "output_type": "execute_result"
    }
   ],
   "source": [
    "visibility[np.arange(len(arr)) != i]"
   ]
  },
  {
   "cell_type": "code",
   "execution_count": 36,
   "metadata": {},
   "outputs": [],
   "source": [
    "x = [ 0.          ,3.3241476   ,2.16441318  ,2.26246005  ,3.76114551 ,16.75951466,\n",
    "   3.40411503  ,2.51208749  ,4.45364959  ,5.86392851]"
   ]
  },
  {
   "cell_type": "code",
   "execution_count": 37,
   "metadata": {},
   "outputs": [
    {
     "data": {
      "text/plain": [
       "44.50546162"
      ]
     },
     "execution_count": 37,
     "metadata": {},
     "output_type": "execute_result"
    }
   ],
   "source": [
    "sum(x)\n"
   ]
  },
  {
   "cell_type": "code",
   "execution_count": null,
   "metadata": {},
   "outputs": [],
   "source": []
  }
 ],
 "metadata": {
  "kernelspec": {
   "display_name": "Python 3",
   "language": "python",
   "name": "python3"
  },
  "language_info": {
   "codemirror_mode": {
    "name": "ipython",
    "version": 3
   },
   "file_extension": ".py",
   "mimetype": "text/x-python",
   "name": "python",
   "nbconvert_exporter": "python",
   "pygments_lexer": "ipython3",
   "version": "3.5.2"
  }
 },
 "nbformat": 4,
 "nbformat_minor": 2
}

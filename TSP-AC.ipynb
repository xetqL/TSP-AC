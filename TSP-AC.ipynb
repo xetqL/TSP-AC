{
 "cells": [
  {
   "cell_type": "code",
   "execution_count": 3,
   "metadata": {},
   "outputs": [],
   "source": [
    "import numpy as np"
   ]
  },
  {
   "cell_type": "code",
   "execution_count": null,
   "metadata": {},
   "outputs": [],
   "source": [
    "def pairwize(array):\n",
    "    return np.transpose(np.stack([np.roll(np.arange(4), -i) for i in range(2)]))\n",
    "def fitness(solution, distance):\n",
    "    cost = 0\n",
    "    pairs = pairwize(solution)\n",
    "    for edge in pairs:\n",
    "        cost += distance[tuple(edge)]\n",
    "    return cost \n",
    "\n",
    "def get_travel(solution, city_points):\n",
    "    travel = []\n",
    "    for v in solution:\n",
    "        travel.append(city_points[v])\n",
    "    travel.append(city_points[solution[0]])\n",
    "    return np.array(travel)\n",
    "\n",
    "def init_tsp(NB_CITIES):\n",
    "    cities = np.random.rand(NB_CITIES, 2)\n",
    "    distances = np.zeros((NB_CITIES, NB_CITIES))\n",
    "\n",
    "    for from_city, p1 in enumerate(cities):\n",
    "        for to_city, p2 in enumerate(cities):\n",
    "            if from_city != to_city:\n",
    "                distances[from_city][to_city] = distances[to_city][from_city] = np.linalg.norm(p1-p2)\n",
    "                \n",
    "    np.fill_diagonal(distances, 0.000000000001)\n",
    "    return cities, distances\n",
    "\n",
    "def get_random_solution(NB_CITIES):\n",
    "    solution=(list(range(NB_CITIES)))\n",
    "    return np.random.shuffle(solution)\n",
    "\n",
    "def plot_solution(solution):\n",
    "    import matplotlib.pyplot as plt\n",
    "    from copy import deepcopy\n",
    "    x, y = zip(*get_travel(solution, deepcopy(cities)))\n",
    "    plt.plot(x,y)\n",
    "    x, y = zip(*cities)\n",
    "    plt.scatter(x, y, marker='*') \n",
    "    \n",
    "def getP(visibility, pheromones, alpha=1.0, beta=1.0):\n",
    "    return np.multiply(np.power(visibility, alpha), np.power(pheromones, beta)) / \\\n",
    "        np.sum(np.multiply(np.power(visibility, alpha), np.power(pheromones, beta)))\n",
    "\n",
    "    #return np.multiply(np.power(visibility, alpha), np.power(pheromones, beta)) / \\\n",
    "    #        np.sum(np.multiply(np.power(visibility, alpha), np.power(pheromones, beta)), axis=1)\n",
    "\n",
    "def P_i(i, tabu, visibility, pheromones, alpha=1.0, beta=1.0):\n",
    "    if len(visibility[i][tabu]) == 1:\n",
    "        return [1.0]\n",
    "    return getP(visibility[i][tabu], pheromones[i][tabu])\n",
    "\n",
    "def select(P, i):\n",
    "    if(len(P) == 1):\n",
    "        return 0\n",
    "    return np.random.choice(np.arange(len(P)), p=P)\n",
    "\n"
   ]
  },
  {
   "cell_type": "code",
   "execution_count": 398,
   "metadata": {},
   "outputs": [
    {
     "name": "stdout",
     "output_type": "stream",
     "text": [
      "[3. 4. 0. 8. 6. 1. 7. 9. 5. 2.]\n",
      "[3. 0. 8. 9. 7. 6. 1. 4. 2. 5.]\n",
      "[0. 5. 6. 2. 7. 9. 8. 1. 4. 3.]\n",
      "[7. 9. 2. 8. 0. 3. 6. 4. 5. 1.]\n",
      "[4. 3. 7. 9. 8. 1. 6. 5. 0. 2.]\n",
      "[1. 7. 3. 9. 4. 8. 0. 5. 6. 2.]\n",
      "[1. 8. 6. 2. 9. 7. 0. 3. 4. 5.]\n",
      "[2. 3. 8. 9. 5. 7. 6. 1. 0. 4.]\n",
      "[2. 8. 4. 1. 9. 6. 5. 0. 7. 3.]\n",
      "[4. 5. 7. 0. 6. 1. 3. 9. 8. 2.]\n",
      "2.044941876372364\n",
      "[8. 9. 6. 7. 5. 2. 1. 3. 4. 0.]\n",
      "[5. 1. 9. 0. 4. 8. 2. 3. 7. 6.]\n",
      "[7. 4. 2. 0. 5. 1. 3. 8. 9. 6.]\n",
      "[4. 5. 9. 1. 6. 7. 8. 0. 3. 2.]\n",
      "[2. 9. 1. 7. 6. 8. 3. 4. 0. 5.]\n",
      "[0. 9. 2. 8. 1. 7. 3. 4. 6. 5.]\n",
      "[2. 9. 7. 5. 0. 6. 1. 4. 8. 3.]\n",
      "[4. 6. 9. 3. 8. 2. 7. 0. 1. 5.]\n",
      "[3. 7. 5. 6. 0. 4. 9. 2. 8. 1.]\n",
      "[3. 8. 4. 9. 5. 7. 1. 6. 0. 2.]\n",
      "2.044941876372364\n",
      "[9. 8. 2. 1. 0. 4. 7. 6. 5. 3.]\n",
      "[2. 1. 0. 3. 4. 6. 8. 9. 7. 5.]\n",
      "[4. 7. 0. 5. 1. 3. 9. 2. 6. 8.]\n",
      "[1. 6. 2. 5. 9. 7. 0. 4. 3. 8.]\n",
      "[6. 4. 0. 1. 9. 3. 2. 7. 8. 5.]\n",
      "[6. 7. 0. 9. 4. 2. 5. 8. 1. 3.]\n",
      "[3. 6. 9. 2. 8. 4. 7. 0. 5. 1.]\n",
      "[9. 4. 3. 7. 2. 8. 0. 6. 5. 1.]\n",
      "[4. 8. 0. 7. 6. 2. 9. 5. 3. 1.]\n",
      "[2. 1. 9. 0. 4. 7. 6. 8. 3. 5.]\n",
      "2.044941876372364\n",
      "[3. 2. 9. 0. 5. 4. 8. 7. 6. 1.]\n",
      "[4. 7. 3. 8. 2. 9. 0. 6. 5. 1.]\n",
      "[7. 0. 4. 6. 1. 3. 9. 5. 2. 8.]\n",
      "[3. 8. 2. 9. 5. 6. 7. 4. 0. 1.]\n",
      "[4. 5. 7. 1. 9. 6. 2. 0. 8. 3.]\n",
      "[6. 7. 0. 4. 2. 8. 1. 9. 3. 5.]\n",
      "[3. 0. 7. 6. 5. 2. 8. 4. 9. 1.]\n",
      "[6. 4. 8. 0. 3. 9. 7. 5. 1. 2.]\n",
      "[6. 9. 2. 7. 4. 8. 0. 3. 5. 1.]\n",
      "[2. 7. 5. 8. 4. 9. 0. 3. 6. 1.]\n",
      "2.044941876372364\n",
      "[1. 2. 6. 0. 4. 5. 9. 8. 7. 3.]\n",
      "[1. 6. 9. 3. 8. 7. 0. 4. 2. 5.]\n",
      "[5. 1. 7. 6. 0. 2. 8. 9. 4. 3.]\n",
      "[9. 7. 0. 4. 6. 2. 8. 1. 3. 5.]\n",
      "[9. 0. 4. 7. 8. 3. 6. 5. 1. 2.]\n",
      "[7. 4. 3. 8. 6. 5. 9. 0. 1. 2.]\n",
      "[7. 2. 9. 0. 3. 4. 8. 5. 6. 1.]\n",
      "[6. 5. 1. 7. 2. 9. 0. 4. 8. 3.]\n",
      "[7. 0. 8. 4. 1. 5. 9. 2. 3. 6.]\n",
      "[1. 4. 7. 8. 3. 9. 0. 5. 2. 6.]\n",
      "2.044941876372364\n",
      "[3. 0. 9. 1. 4. 8. 7. 2. 5. 6.]\n",
      "[8. 6. 4. 9. 1. 2. 3. 7. 0. 5.]\n",
      "[1. 9. 2. 8. 4. 6. 0. 5. 3. 7.]\n",
      "[7. 4. 0. 2. 3. 8. 5. 6. 9. 1.]\n",
      "[2. 7. 8. 1. 3. 9. 0. 4. 6. 5.]\n",
      "[8. 9. 2. 4. 6. 7. 0. 5. 3. 1.]\n",
      "[7. 3. 2. 8. 9. 1. 5. 0. 4. 6.]\n",
      "[2. 8. 9. 0. 1. 4. 5. 3. 7. 6.]\n",
      "[4. 1. 6. 0. 7. 9. 3. 2. 8. 5.]\n",
      "[6. 7. 8. 3. 1. 9. 0. 5. 4. 2.]\n",
      "2.044941876372364\n",
      "[0. 8. 4. 7. 2. 3. 9. 6. 1. 5.]\n",
      "[6. 8. 3. 7. 0. 4. 5. 9. 1. 2.]\n",
      "[0. 9. 2. 5. 4. 8. 7. 6. 3. 1.]\n",
      "[4. 9. 2. 8. 5. 0. 6. 7. 3. 1.]\n",
      "[4. 7. 9. 6. 3. 5. 8. 1. 2. 0.]\n",
      "[1. 5. 3. 7. 2. 9. 0. 4. 6. 8.]\n",
      "[0. 3. 4. 9. 8. 1. 2. 7. 6. 5.]\n",
      "[2. 9. 6. 0. 3. 7. 4. 8. 5. 1.]\n",
      "[3. 2. 8. 4. 1. 9. 7. 6. 5. 0.]\n",
      "[0. 7. 2. 9. 4. 3. 8. 5. 6. 1.]\n",
      "2.044941876372364\n",
      "[8. 9. 5. 6. 3. 7. 2. 1. 4. 0.]\n",
      "[3. 4. 7. 1. 2. 9. 0. 6. 8. 5.]\n",
      "[3. 4. 2. 1. 9. 8. 0. 6. 7. 5.]\n",
      "[5. 6. 8. 9. 3. 7. 2. 0. 4. 1.]\n",
      "[6. 2. 8. 0. 1. 3. 5. 9. 7. 4.]\n",
      "[2. 8. 0. 7. 6. 1. 4. 3. 5. 9.]\n",
      "[8. 2. 0. 7. 3. 9. 6. 5. 4. 1.]\n",
      "[2. 9. 6. 8. 4. 5. 7. 0. 3. 1.]\n",
      "[8. 3. 9. 4. 2. 1. 7. 6. 0. 5.]\n",
      "[3. 0. 4. 8. 1. 5. 2. 7. 9. 6.]\n",
      "2.044941876372364\n",
      "[2. 4. 7. 0. 3. 6. 9. 5. 8. 1.]\n",
      "[7. 9. 4. 8. 2. 0. 5. 1. 6. 3.]\n",
      "[0. 2. 9. 3. 5. 8. 7. 4. 6. 1.]\n",
      "[5. 0. 4. 2. 6. 8. 7. 1. 9. 3.]\n",
      "[0. 4. 2. 9. 7. 6. 8. 5. 1. 3.]\n",
      "[9. 4. 0. 2. 8. 3. 5. 7. 6. 1.]\n",
      "[0. 4. 2. 8. 1. 7. 5. 6. 9. 3.]\n",
      "[9. 7. 4. 3. 8. 6. 0. 1. 5. 2.]\n",
      "[8. 2. 3. 4. 1. 0. 7. 9. 5. 6.]\n",
      "[7. 1. 8. 5. 6. 3. 9. 0. 4. 2.]\n",
      "2.044941876372364\n",
      "[6. 0. 7. 1. 4. 8. 9. 5. 3. 2.]\n",
      "[3. 0. 9. 8. 2. 4. 7. 6. 5. 1.]\n",
      "[1. 4. 7. 6. 0. 2. 3. 8. 9. 5.]\n",
      "[1. 9. 6. 4. 7. 0. 2. 3. 5. 8.]\n",
      "[6. 7. 0. 4. 9. 8. 2. 5. 1. 3.]\n",
      "[7. 8. 3. 0. 1. 6. 4. 2. 9. 5.]\n",
      "[7. 4. 3. 0. 8. 1. 5. 9. 6. 2.]\n",
      "[8. 2. 3. 9. 7. 1. 5. 4. 6. 0.]\n",
      "[3. 8. 4. 0. 5. 9. 7. 6. 1. 2.]\n",
      "[4. 3. 7. 1. 9. 8. 0. 2. 5. 6.]\n",
      "2.044941876372364\n"
     ]
    },
    {
     "data": {
      "image/png": "[encoded data removed]",
      "text/plain": [
       "<Figure size 432x288 with 1 Axes>"
      ]
     },
     "metadata": {
      "needs_background": "light"
     },
     "output_type": "display_data"
    }
   ],
   "source": [
    "NB_CITIES=10\n",
    "NB_ANTS  =10\n",
    "NB_ITER  =10\n",
    "cities, distances = init_tsp(NB_CITIES)\n",
    "visibility = 1 / distances\n",
    "np.fill_diagonal(visibility, 0)\n",
    "pheromones = np.ones_like(visibility)\n",
    "evaporation = 0.85\n",
    "Q = 1.5\n",
    "L = np.zeros(NB_ANTS)\n",
    "for iteration in range(NB_ITER):\n",
    "    solutions = np.zeros((NB_ANTS, NB_CITIES))\n",
    "    tabus     = np.ones((NB_ANTS, NB_CITIES), dtype=bool)\n",
    "    ids       = np.arange(NB_CITIES)\n",
    "    for ant in range(NB_ANTS):\n",
    "        s = np.random.randint(NB_CITIES)\n",
    "        solutions[ant, 0] = s\n",
    "        tabus[ant, s] = False\n",
    "        for i in range(1, NB_CITIES):\n",
    "            p = P_i(s, tabus[ant], visibility, pheromones)\n",
    "            s = select(p, s)\n",
    "            solutions[ant, i] = ids[tabus[ant]][s]\n",
    "            tabus[ant, ids[tabus[ant]][s]] = False\n",
    "        L[ant] = fitness(solutions[ant].astype(int), distances)\n",
    "        print(solutions[ant])\n",
    "    pheromones = evaporation * pheromones\n",
    "    for ant in range(NB_ANTS):\n",
    "        for edge in pairwize(solutions[ant]):\n",
    "            pheromones[edge] += Q/L[ant]\n",
    "    fitnesses = np.apply_along_axis(fitness, axis=1, arr=solutions.astype(int), distance=distances)\n",
    "    best = np.argmin(fitnesses)\n",
    "    print(fitnesses[best])\n",
    "    if iteration == NB_ITER-1:\n",
    "        plot_solution(solutions[best].astype(int))"
   ]
  },
  {
   "cell_type": "code",
   "execution_count": 297,
   "metadata": {},
   "outputs": [
    {
     "ename": "TypeError",
     "evalue": "object of type 'numpy.int64' has no len()",
     "output_type": "error",
     "traceback": [
      "\u001b[0;31m---------------------------------------------------------------------------\u001b[0m",
      "\u001b[0;31mTypeError\u001b[0m                                 Traceback (most recent call last)",
      "\u001b[0;32m<ipython-input-297-5d5ae9f8abdf>\u001b[0m in \u001b[0;36m<module>\u001b[0;34m\u001b[0m\n\u001b[1;32m      1\u001b[0m \u001b[0mf\u001b[0m \u001b[0;34m=\u001b[0m \u001b[0mnp\u001b[0m\u001b[0;34m.\u001b[0m\u001b[0mvectorize\u001b[0m\u001b[0;34m(\u001b[0m\u001b[0mfitness\u001b[0m\u001b[0;34m)\u001b[0m\u001b[0;34m\u001b[0m\u001b[0m\n\u001b[0;32m----> 2\u001b[0;31m \u001b[0mf\u001b[0m\u001b[0;34m(\u001b[0m\u001b[0msolutions\u001b[0m\u001b[0;34m.\u001b[0m\u001b[0mastype\u001b[0m\u001b[0;34m(\u001b[0m\u001b[0mint\u001b[0m\u001b[0;34m)\u001b[0m\u001b[0;34m,\u001b[0m \u001b[0mdistances\u001b[0m\u001b[0;34m)\u001b[0m\u001b[0;34m\u001b[0m\u001b[0m\n\u001b[0m",
      "\u001b[0;32m~/.local/share/virtualenvs/TSP-AC-Sz05brbq/lib/python3.5/site-packages/numpy/lib/function_base.py\u001b[0m in \u001b[0;36m__call__\u001b[0;34m(self, *args, **kwargs)\u001b[0m\n\u001b[1;32m   2089\u001b[0m             \u001b[0mvargs\u001b[0m\u001b[0;34m.\u001b[0m\u001b[0mextend\u001b[0m\u001b[0;34m(\u001b[0m\u001b[0;34m[\u001b[0m\u001b[0mkwargs\u001b[0m\u001b[0;34m[\u001b[0m\u001b[0m_n\u001b[0m\u001b[0;34m]\u001b[0m \u001b[0;32mfor\u001b[0m \u001b[0m_n\u001b[0m \u001b[0;32min\u001b[0m \u001b[0mnames\u001b[0m\u001b[0;34m]\u001b[0m\u001b[0;34m)\u001b[0m\u001b[0;34m\u001b[0m\u001b[0m\n\u001b[1;32m   2090\u001b[0m \u001b[0;34m\u001b[0m\u001b[0m\n\u001b[0;32m-> 2091\u001b[0;31m         \u001b[0;32mreturn\u001b[0m \u001b[0mself\u001b[0m\u001b[0;34m.\u001b[0m\u001b[0m_vectorize_call\u001b[0m\u001b[0;34m(\u001b[0m\u001b[0mfunc\u001b[0m\u001b[0;34m=\u001b[0m\u001b[0mfunc\u001b[0m\u001b[0;34m,\u001b[0m \u001b[0margs\u001b[0m\u001b[0;34m=\u001b[0m\u001b[0mvargs\u001b[0m\u001b[0;34m)\u001b[0m\u001b[0;34m\u001b[0m\u001b[0m\n\u001b[0m\u001b[1;32m   2092\u001b[0m \u001b[0;34m\u001b[0m\u001b[0m\n\u001b[1;32m   2093\u001b[0m     \u001b[0;32mdef\u001b[0m \u001b[0m_get_ufunc_and_otypes\u001b[0m\u001b[0;34m(\u001b[0m\u001b[0mself\u001b[0m\u001b[0;34m,\u001b[0m \u001b[0mfunc\u001b[0m\u001b[0;34m,\u001b[0m \u001b[0margs\u001b[0m\u001b[0;34m)\u001b[0m\u001b[0;34m:\u001b[0m\u001b[0;34m\u001b[0m\u001b[0m\n",
      "\u001b[0;32m~/.local/share/virtualenvs/TSP-AC-Sz05brbq/lib/python3.5/site-packages/numpy/lib/function_base.py\u001b[0m in \u001b[0;36m_vectorize_call\u001b[0;34m(self, func, args)\u001b[0m\n\u001b[1;32m   2159\u001b[0m             \u001b[0mres\u001b[0m \u001b[0;34m=\u001b[0m \u001b[0mfunc\u001b[0m\u001b[0;34m(\u001b[0m\u001b[0;34m)\u001b[0m\u001b[0;34m\u001b[0m\u001b[0m\n\u001b[1;32m   2160\u001b[0m         \u001b[0;32melse\u001b[0m\u001b[0;34m:\u001b[0m\u001b[0;34m\u001b[0m\u001b[0m\n\u001b[0;32m-> 2161\u001b[0;31m             \u001b[0mufunc\u001b[0m\u001b[0;34m,\u001b[0m \u001b[0motypes\u001b[0m \u001b[0;34m=\u001b[0m \u001b[0mself\u001b[0m\u001b[0;34m.\u001b[0m\u001b[0m_get_ufunc_and_otypes\u001b[0m\u001b[0;34m(\u001b[0m\u001b[0mfunc\u001b[0m\u001b[0;34m=\u001b[0m\u001b[0mfunc\u001b[0m\u001b[0;34m,\u001b[0m \u001b[0margs\u001b[0m\u001b[0;34m=\u001b[0m\u001b[0margs\u001b[0m\u001b[0;34m)\u001b[0m\u001b[0;34m\u001b[0m\u001b[0m\n\u001b[0m\u001b[1;32m   2162\u001b[0m \u001b[0;34m\u001b[0m\u001b[0m\n\u001b[1;32m   2163\u001b[0m             \u001b[0;31m# Convert args to object arrays first\u001b[0m\u001b[0;34m\u001b[0m\u001b[0;34m\u001b[0m\u001b[0m\n",
      "\u001b[0;32m~/.local/share/virtualenvs/TSP-AC-Sz05brbq/lib/python3.5/site-packages/numpy/lib/function_base.py\u001b[0m in \u001b[0;36m_get_ufunc_and_otypes\u001b[0;34m(self, func, args)\u001b[0m\n\u001b[1;32m   2119\u001b[0m \u001b[0;34m\u001b[0m\u001b[0m\n\u001b[1;32m   2120\u001b[0m             \u001b[0minputs\u001b[0m \u001b[0;34m=\u001b[0m \u001b[0;34m[\u001b[0m\u001b[0marg\u001b[0m\u001b[0;34m.\u001b[0m\u001b[0mflat\u001b[0m\u001b[0;34m[\u001b[0m\u001b[0;36m0\u001b[0m\u001b[0;34m]\u001b[0m \u001b[0;32mfor\u001b[0m \u001b[0marg\u001b[0m \u001b[0;32min\u001b[0m \u001b[0margs\u001b[0m\u001b[0;34m]\u001b[0m\u001b[0;34m\u001b[0m\u001b[0m\n\u001b[0;32m-> 2121\u001b[0;31m             \u001b[0moutputs\u001b[0m \u001b[0;34m=\u001b[0m \u001b[0mfunc\u001b[0m\u001b[0;34m(\u001b[0m\u001b[0;34m*\u001b[0m\u001b[0minputs\u001b[0m\u001b[0;34m)\u001b[0m\u001b[0;34m\u001b[0m\u001b[0m\n\u001b[0m\u001b[1;32m   2122\u001b[0m \u001b[0;34m\u001b[0m\u001b[0m\n\u001b[1;32m   2123\u001b[0m             \u001b[0;31m# Performance note: profiling indicates that -- for simple\u001b[0m\u001b[0;34m\u001b[0m\u001b[0;34m\u001b[0m\u001b[0m\n",
      "\u001b[0;32m<ipython-input-285-bb142e437586>\u001b[0m in \u001b[0;36mfitness\u001b[0;34m(solution, distance)\u001b[0m\n\u001b[1;32m      1\u001b[0m \u001b[0;32mdef\u001b[0m \u001b[0mfitness\u001b[0m\u001b[0;34m(\u001b[0m\u001b[0msolution\u001b[0m\u001b[0;34m,\u001b[0m \u001b[0mdistance\u001b[0m\u001b[0;34m)\u001b[0m\u001b[0;34m:\u001b[0m\u001b[0;34m\u001b[0m\u001b[0m\n\u001b[1;32m      2\u001b[0m     \u001b[0mcost\u001b[0m \u001b[0;34m=\u001b[0m \u001b[0;36m0\u001b[0m\u001b[0;34m\u001b[0m\u001b[0m\n\u001b[0;32m----> 3\u001b[0;31m     \u001b[0;32mfor\u001b[0m \u001b[0mi\u001b[0m \u001b[0;32min\u001b[0m \u001b[0mrange\u001b[0m\u001b[0;34m(\u001b[0m\u001b[0mlen\u001b[0m\u001b[0;34m(\u001b[0m\u001b[0msolution\u001b[0m\u001b[0;34m)\u001b[0m\u001b[0;34m-\u001b[0m\u001b[0;36m1\u001b[0m\u001b[0;34m)\u001b[0m\u001b[0;34m:\u001b[0m\u001b[0;34m\u001b[0m\u001b[0m\n\u001b[0m\u001b[1;32m      4\u001b[0m         \u001b[0mcost\u001b[0m \u001b[0;34m+=\u001b[0m \u001b[0mdistance\u001b[0m\u001b[0;34m[\u001b[0m\u001b[0msolution\u001b[0m\u001b[0;34m[\u001b[0m\u001b[0mi\u001b[0m\u001b[0;34m]\u001b[0m\u001b[0;34m]\u001b[0m\u001b[0;34m[\u001b[0m\u001b[0msolution\u001b[0m\u001b[0;34m[\u001b[0m\u001b[0mi\u001b[0m\u001b[0;34m+\u001b[0m\u001b[0;36m1\u001b[0m\u001b[0;34m]\u001b[0m\u001b[0;34m]\u001b[0m\u001b[0;34m\u001b[0m\u001b[0m\n\u001b[1;32m      5\u001b[0m     \u001b[0mcost\u001b[0m \u001b[0;34m+=\u001b[0m \u001b[0mdistance\u001b[0m\u001b[0;34m[\u001b[0m\u001b[0msolution\u001b[0m\u001b[0;34m[\u001b[0m\u001b[0;34m-\u001b[0m\u001b[0;36m1\u001b[0m\u001b[0;34m]\u001b[0m\u001b[0;34m]\u001b[0m\u001b[0;34m[\u001b[0m\u001b[0msolution\u001b[0m\u001b[0;34m[\u001b[0m\u001b[0;36m0\u001b[0m\u001b[0;34m]\u001b[0m\u001b[0;34m]\u001b[0m\u001b[0;34m\u001b[0m\u001b[0m\n",
      "\u001b[0;31mTypeError\u001b[0m: object of type 'numpy.int64' has no len()"
     ]
    }
   ],
   "source": []
  },
  {
   "cell_type": "code",
   "execution_count": 378,
   "metadata": {},
   "outputs": [
    {
     "name": "stdout",
     "output_type": "stream",
     "text": [
      "(array([[0],\n",
      "       [1],\n",
      "       [2],\n",
      "       [3]]), array([[1, 2, 3, 0]]))\n",
      "\n"
     ]
    }
   ],
   "source": [
    "r,c=zip(*pairwize(np.arange(2)))\n",
    "print(np.ix_(r,c))\n"
   ]
  },
  {
   "cell_type": "code",
   "execution_count": 376,
   "metadata": {},
   "outputs": [
    {
     "data": {
      "text/plain": [
       "array([[[1.00000000e-12, 1.22051754e-01, 4.24873214e-01, 8.17084951e-01,\n",
       "         6.40116274e-01, 4.82134518e-01, 7.67085789e-01, 4.85805484e-01,\n",
       "         6.41902029e-01, 2.57196703e-01],\n",
       "        [1.22051754e-01, 1.00000000e-12, 3.13988568e-01, 8.75536831e-01,\n",
       "         6.50114849e-01, 4.53705160e-01, 7.45167622e-01, 6.03629913e-01,\n",
       "         7.14990641e-01, 3.76095092e-01]],\n",
       "\n",
       "       [[1.22051754e-01, 1.00000000e-12, 3.13988568e-01, 8.75536831e-01,\n",
       "         6.50114849e-01, 4.53705160e-01, 7.45167622e-01, 6.03629913e-01,\n",
       "         7.14990641e-01, 3.76095092e-01],\n",
       "        [4.24873214e-01, 3.13988568e-01, 1.00000000e-12, 9.46373369e-01,\n",
       "         6.23597108e-01, 3.75114204e-01, 6.22124752e-01, 8.61551587e-01,\n",
       "         8.37652644e-01, 6.49304043e-01]],\n",
       "\n",
       "       [[4.24873214e-01, 3.13988568e-01, 1.00000000e-12, 9.46373369e-01,\n",
       "         6.23597108e-01, 3.75114204e-01, 6.22124752e-01, 8.61551587e-01,\n",
       "         8.37652644e-01, 6.49304043e-01],\n",
       "        [8.17084951e-01, 8.75536831e-01, 9.46373369e-01, 1.00000000e-12,\n",
       "         3.66630164e-01, 5.90352576e-01, 5.41093339e-01, 6.11780118e-01,\n",
       "         1.99866472e-01, 6.77793996e-01]],\n",
       "\n",
       "       [[8.17084951e-01, 8.75536831e-01, 9.46373369e-01, 1.00000000e-12,\n",
       "         3.66630164e-01, 5.90352576e-01, 5.41093339e-01, 6.11780118e-01,\n",
       "         1.99866472e-01, 6.77793996e-01],\n",
       "        [1.00000000e-12, 1.22051754e-01, 4.24873214e-01, 8.17084951e-01,\n",
       "         6.40116274e-01, 4.82134518e-01, 7.67085789e-01, 4.85805484e-01,\n",
       "         6.41902029e-01, 2.57196703e-01]]])"
      ]
     },
     "execution_count": 376,
     "metadata": {},
     "output_type": "execute_result"
    }
   ],
   "source": [
    "distances[pairwize(np.arange(4))]"
   ]
  },
  {
   "cell_type": "code",
   "execution_count": 390,
   "metadata": {},
   "outputs": [
    {
     "data": {
      "text/plain": [
       "0.383428545402725"
      ]
     },
     "execution_count": 390,
     "metadata": {},
     "output_type": "execute_result"
    }
   ],
   "source": [
    "distances[tuple([0,1])]"
   ]
  },
  {
   "cell_type": "code",
   "execution_count": null,
   "metadata": {},
   "outputs": [],
   "source": []
  }
 ],
 "metadata": {
  "kernelspec": {
   "display_name": "Python 3",
   "language": "python",
   "name": "python3"
  },
  "language_info": {
   "codemirror_mode": {
    "name": "ipython",
    "version": 3
   },
   "file_extension": ".py",
   "mimetype": "text/x-python",
   "name": "python",
   "nbconvert_exporter": "python",
   "pygments_lexer": "ipython3",
   "version": "3.5.2"
  }
 },
 "nbformat": 4,
 "nbformat_minor": 2
}
